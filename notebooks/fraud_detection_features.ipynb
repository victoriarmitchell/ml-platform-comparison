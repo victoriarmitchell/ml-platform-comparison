{
 "cells": [
  {
   "cell_type": "markdown",
   "metadata": {},
   "source": [
    "# Feature Engineering for Fraud Detection\n",
    "This notebook processes the `train_transaction` and `train_identity` datasets, merges them on `TransactionID`, and generates simple features."
   ]
  },
  {
   "cell_type": "code",
   "execution_count": null,
   "metadata": {
    "tags": []
   },
   "outputs": [],
   "source": [
    "import pandas as pd\n",
    "import numpy as np\n",
    "\n",
    "# Load the datasets\n",
    "train_transaction = pd.read_csv('../data/raw/train_transaction.csv', nrows=10000)\n",
    "train_identity = pd.read_csv('../data/raw/train_identity.csv', nrows=10000)\n",
    "\n",
    "# Merge datasets on TransactionID\n",
    "df = train_transaction.merge(train_identity, on='TransactionID', how='left')\n",
    "\n",
    "print(f'Merged dataset shape: {df.shape}')"
   ]
  },
  {
   "cell_type": "markdown",
   "metadata": {},
   "source": [
    "## Handling Categorical Features"
   ]
  },
  {
   "cell_type": "code",
   "execution_count": null,
   "metadata": {
    "tags": []
   },
   "outputs": [],
   "source": [
    "# Define categorical features\n",
    "cat_features = ['ProductCD', 'card1', 'card2', 'card3', 'card4', 'card5', 'card6', \n",
    "                'addr1', 'addr2', 'P_emaildomain', 'R_emaildomain']\n",
    "\n",
    "cat_features += [f'M{i}' for i in range(1, 10)]\n",
    "cat_features += ['DeviceType', 'DeviceInfo']\n",
    "cat_features += [f'id_{i}' for i in range(12, 39)]\n",
    "\n",
    "# Convert categorical features to category type\n",
    "for col in cat_features:\n",
    "    if col in df.columns:\n",
    "        df[col] = df[col].astype('category')\n",
    "\n",
    "print('Categorical features converted to category type.')"
   ]
  },
  {
   "cell_type": "markdown",
   "metadata": {},
   "source": [
    "## Handling Missing Values"
   ]
  },
  {
   "cell_type": "code",
   "execution_count": null,
   "metadata": {
    "tags": []
   },
   "outputs": [],
   "source": [
    "# Ensure 'missing' is a category before filling missing values\n",
    "for col in cat_features:\n",
    "    if col in df.columns and df[col].dtype.name == 'category':\n",
    "        df[col] = df[col].cat.add_categories(['missing'])\n",
    "\n",
    "# Fill missing categorical values with 'missing'\n",
    "df[cat_features] = df[cat_features].fillna('missing')\n",
    "\n",
    "# Fill missing numerical values with -999 (a placeholder for missing values)\n",
    "num_features = df.select_dtypes(include=['number']).columns.tolist()\n",
    "df[num_features] = df[num_features].fillna(-999)\n",
    "\n",
    "print('Missing values handled.')"
   ]
  },
  {
   "cell_type": "markdown",
   "metadata": {},
   "source": [
    "## Feature Engineering"
   ]
  },
  {
   "cell_type": "code",
   "execution_count": null,
   "metadata": {
    "tags": []
   },
   "outputs": [],
   "source": [
    "df = df.copy()  # Defragment\n",
    "\n",
    "df = df.assign(\n",
    "    TransactionAmt_log=np.log1p(df['TransactionAmt']),\n",
    "    TransactionDay=(df['TransactionDT'] // (24 * 3600)) % 7\n",
    ")\n",
    "\n",
    "print('Simple features created.')"
   ]
  },
  {
   "cell_type": "markdown",
   "metadata": {},
   "source": [
    "## Save Processed Dataset"
   ]
  },
  {
   "cell_type": "code",
   "execution_count": null,
   "metadata": {
    "tags": []
   },
   "outputs": [],
   "source": [
    "df.to_csv('processed_train.csv', index=False)\n",
    "print('Processed dataset saved.')"
   ]
  },
  {
   "cell_type": "code",
   "execution_count": null,
   "metadata": {},
   "outputs": [],
   "source": []
  }
 ],
 "metadata": {
  "environment": {
   "kernel": "conda-base-py",
   "name": "workbench-notebooks.m127",
   "type": "gcloud",
   "uri": "us-docker.pkg.dev/deeplearning-platform-release/gcr.io/workbench-notebooks:m127"
  },
  "kernelspec": {
   "display_name": "Python 3 (ipykernel) (Local)",
   "language": "python",
   "name": "conda-base-py"
  },
  "language_info": {
   "codemirror_mode": {
    "name": "ipython",
    "version": 3
   },
   "file_extension": ".py",
   "mimetype": "text/x-python",
   "name": "python",
   "nbconvert_exporter": "python",
   "pygments_lexer": "ipython3",
   "version": "3.10.16"
  }
 },
 "nbformat": 4,
 "nbformat_minor": 4
}
