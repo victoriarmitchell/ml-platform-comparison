{
 "cells": [
  {
   "cell_type": "markdown",
   "id": "ffba683e-9cab-45b9-84d4-c72e51b75963",
   "metadata": {},
   "source": [
    "# Phase 0\n",
    "This notebook is designed to test the UX and developer experience of an ML platform using a fraud detection use case. The goal is not to create the best-performing model but to evaluate how easy it is to work with the platform.\n",
    "\n",
    "How This Notebook Works\n",
    "\n",
    "* We generate synthetic fraud data and train a simple machine learning model.\n",
    "* We deploy the model as an API using FastAPI.\n",
    "* We send requests to the API to test predictions.\n",
    "* This is designed to run in a cloud notebook (internal and external), so some setup is required for external access."
   ]
  },
  {
   "cell_type": "markdown",
   "id": "aa2d0c9a-1eea-46d2-aad0-e2b50cf6ba58",
   "metadata": {},
   "source": [
    "## Install Dependencies (if needed)\n",
    "What This Cell Does:\n",
    "\n",
    "* Installs the required tools for machine learning and API deployment.\n",
    "* FastAPI & Uvicorn: Used to deploy and serve the model as an API.\n",
    "* Scikit-learn: Used for training the fraud detection model.\n",
    "* Joblib: Saves and loads the trained model.\n",
    "*Nest-asyncio: Helps FastAPI run smoothly inside Jupyter notebooks.\n",
    "\n",
    "⚠️ Skip this cell if all libraries are already installed."
   ]
  },
  {
   "cell_type": "code",
   "execution_count": null,
   "id": "53f1f072-a76d-475d-b6ef-eed4aa2e7a4c",
   "metadata": {
    "tags": []
   },
   "outputs": [],
   "source": [
    "# Install necessary packages (uncomment if running for the first time)\n",
    "!pip install fastapi uvicorn scikit-learn pandas numpy joblib requests nest-asyncio"
   ]
  },
  {
   "cell_type": "markdown",
   "id": "5e975af3-87fc-4911-a764-79c025d11944",
   "metadata": {},
   "source": [
    "## Generate Synthetic Data and Train a Model\n",
    "What This Cell Does:\n",
    "\n",
    "* Creates synthetic fraud data (since we don’t have real fraud cases).\n",
    "* Trains a simple model to classify transactions as fraudulent or not.\n",
    "* Splits the data into training and test sets (80% for training, 20% for testing).\n",
    "* Evaluates the model and prints a report.\n",
    "\n",
    "📌 Key Concept:\n",
    "The model is very basic. It is only used to test how easy it is to use the platform."
   ]
  },
  {
   "cell_type": "code",
   "execution_count": 2,
   "id": "306fa59c-dc1e-4b8c-8a29-0a13826188e7",
   "metadata": {
    "tags": []
   },
   "outputs": [
    {
     "name": "stdout",
     "output_type": "stream",
     "text": [
      "Classification Report:\n",
      "               precision    recall  f1-score   support\n",
      "\n",
      "           0       0.99      1.00      0.99       187\n",
      "           1       1.00      0.85      0.92        13\n",
      "\n",
      "    accuracy                           0.99       200\n",
      "   macro avg       0.99      0.92      0.96       200\n",
      "weighted avg       0.99      0.99      0.99       200\n",
      "\n"
     ]
    }
   ],
   "source": [
    "import numpy as np\n",
    "import pandas as pd\n",
    "from sklearn.datasets import make_classification\n",
    "from sklearn.linear_model import LogisticRegression\n",
    "from sklearn.model_selection import train_test_split\n",
    "from sklearn.metrics import classification_report\n",
    "import joblib\n",
    "\n",
    "# Create synthetic fraud detection data:\n",
    "# We'll generate 1000 samples with 20 features, and make the classes imbalanced (e.g., fraud is rare)\n",
    "X, y = make_classification(n_samples=1000,\n",
    "                           n_features=20,\n",
    "                           n_informative=5,\n",
    "                           n_redundant=2,\n",
    "                           n_clusters_per_class=1,\n",
    "                           weights=[0.95, 0.05],\n",
    "                           random_state=42)\n",
    "\n",
    "# Convert to a DataFrame for a more realistic data handling scenario.\n",
    "df = pd.DataFrame(X, columns=[f'feature_{i}' for i in range(20)])\n",
    "df['label'] = y\n",
    "\n",
    "# Split the data\n",
    "X_train, X_test, y_train, y_test = train_test_split(df.drop(\"label\", axis=1), df[\"label\"], test_size=0.2, random_state=42)\n",
    "\n",
    "# Train a simple Logistic Regression model\n",
    "model = LogisticRegression(solver=\"liblinear\")\n",
    "model.fit(X_train, y_train)\n",
    "\n",
    "# Evaluate the model on the test set\n",
    "y_pred = model.predict(X_test)\n",
    "print(\"Classification Report:\\n\", classification_report(y_test, y_pred))"
   ]
  },
  {
   "cell_type": "markdown",
   "id": "55fa145b-b8b2-4c37-8b9e-a33a6b3548a6",
   "metadata": {},
   "source": [
    "## Save the Trained Model Locally\n",
    "What This Cell Does:\n",
    "* Saves the trained model as a file (fraud_model.joblib).\n",
    "* This file will be loaded later to serve predictions through the API."
   ]
  },
  {
   "cell_type": "code",
   "execution_count": 3,
   "id": "b177b176-6c7e-496d-9a3a-b68cf081f485",
   "metadata": {
    "tags": []
   },
   "outputs": [
    {
     "name": "stdout",
     "output_type": "stream",
     "text": [
      "Model saved to fraud_model.joblib\n"
     ]
    }
   ],
   "source": [
    "# Save the model to a file for later loading in the API.\n",
    "model_filename = \"fraud_model.joblib\"\n",
    "joblib.dump(model, model_filename)\n",
    "print(f\"Model saved to {model_filename}\")"
   ]
  },
  {
   "cell_type": "markdown",
   "id": "3bca2c11-8bb9-4c58-8ff1-943deb9b00bd",
   "metadata": {
    "tags": []
   },
   "source": [
    "## Create a FastAPI Application\n",
    "What This Cell Does:\n",
    "\n",
    "* Creates a FastAPI web service (app.py) that:\n",
    "    * Loads the trained model.\n",
    "    * Defines an API endpoint (/predict) to classify transactions.\n",
    "    * Accepts a list of 20 numbers (features) as input.\n",
    "    * Returns a prediction and probability score.\n",
    "\n",
    "📌 Key Concept:\n",
    "The API allows other applications (or users) to send transaction data and get predictions in real-time."
   ]
  },
  {
   "cell_type": "code",
   "execution_count": 4,
   "id": "2bb64e03-60ce-4bc5-823b-3f821fadb22e",
   "metadata": {
    "tags": []
   },
   "outputs": [
    {
     "name": "stdout",
     "output_type": "stream",
     "text": [
      "Writing app.py\n"
     ]
    }
   ],
   "source": [
    "%%writefile app.py\n",
    "from fastapi import FastAPI\n",
    "from pydantic import BaseModel\n",
    "import joblib\n",
    "import numpy as np\n",
    "import pandas as pd\n",
    "\n",
    "app = FastAPI()\n",
    "\n",
    "# Load the trained model\n",
    "try:\n",
    "    model = joblib.load(\"fraud_model.joblib\")\n",
    "except FileNotFoundError:\n",
    "    model = None\n",
    "\n",
    "feature_names = [f'feature_{i}' for i in range(20)]\n",
    "\n",
    "class Transaction(BaseModel):\n",
    "    features: list[float]\n",
    "\n",
    "@app.post(\"/predict\")\n",
    "def predict(transaction: Transaction):\n",
    "    if model is None:\n",
    "        return {\"error\": \"Model not loaded\"}\n",
    "    features = np.array(transaction.features).reshape(1, -1)\n",
    "    features_df = pd.DataFrame(features, columns=feature_names)\n",
    "    prediction = model.predict(features_df)\n",
    "    probability = model.predict_proba(features_df).max()\n",
    "    return {\"prediction\": int(prediction[0]), \"probability\": probability}\n",
    "\n",
    "if __name__ == \"__main__\":\n",
    "    import uvicorn\n",
    "    uvicorn.run(app, host=\"127.0.0.1\", port=8000, log_level=\"info\")"
   ]
  },
  {
   "cell_type": "markdown",
   "id": "2edc3bbd-ddb8-4f73-94d1-dbeb3a64fa90",
   "metadata": {},
   "source": [
    "## Run the FastAPI Server Inside the Notebook\n",
    "What This Cell Does:\n",
    "\n",
    "* Starts the FastAPI server so it can receive requests.\n",
    "* Runs in the background so the notebook can continue running.\n",
    "* Exposes the service on 127.0.0.1:8080."
   ]
  },
  {
   "cell_type": "code",
   "execution_count": 5,
   "id": "ce3a5f6b-ad26-41fb-a0f5-60910d1ed7fc",
   "metadata": {
    "tags": []
   },
   "outputs": [
    {
     "name": "stdout",
     "output_type": "stream",
     "text": [
      "FastAPI server is running at http://127.0.0.1:8000\n"
     ]
    },
    {
     "name": "stderr",
     "output_type": "stream",
     "text": [
      "INFO:     Started server process [9959]\n",
      "INFO:     Waiting for application startup.\n",
      "INFO:     Application startup complete.\n",
      "INFO:     Uvicorn running on http://127.0.0.1:8000 (Press CTRL+C to quit)\n"
     ]
    },
    {
     "name": "stdout",
     "output_type": "stream",
     "text": [
      "INFO:     127.0.0.1:56492 - \"POST /predict HTTP/1.1\" 200 OK\n",
      "INFO:     127.0.0.1:57168 - \"POST /predict HTTP/1.1\" 200 OK\n"
     ]
    }
   ],
   "source": [
    "import nest_asyncio\n",
    "import uvicorn\n",
    "from threading import Thread\n",
    "\n",
    "# Apply nest_asyncio to allow running FastAPI inside Jupyter\n",
    "nest_asyncio.apply()\n",
    "\n",
    "# Ensure Uvicorn does NOT use uvloop\n",
    "def run_api():\n",
    "    uvicorn.run(\"app:app\", host=\"127.0.0.1\", port=8000, log_level=\"info\", loop=\"asyncio\")\n",
    "\n",
    "# Start FastAPI in a background thread\n",
    "api_thread = Thread(target=run_api, daemon=True)\n",
    "api_thread.start()\n",
    "\n",
    "print(\"FastAPI server is running at http://127.0.0.1:8000\")"
   ]
  },
  {
   "cell_type": "markdown",
   "id": "0d53281e-9f6c-416c-875f-80ce3033cd2a",
   "metadata": {},
   "source": [
    "## Test the FastAPI Endpoint\n",
    "\n",
    "What This Cell Does:\n",
    "\n",
    "* Sends a test request to the /predict API endpoint.\n",
    "* Generates a random transaction with 20 numbers (features).\n",
    "* Receives a prediction (fraud or not fraud).\n",
    "\n",
    "📌 Key Concept:\n",
    "This simulates how a real app or website would use the model to check if a transaction is fraudulent."
   ]
  },
  {
   "cell_type": "code",
   "execution_count": 7,
   "id": "d487a895-7e94-4dbe-96f5-e58686fdd2e9",
   "metadata": {
    "tags": []
   },
   "outputs": [
    {
     "name": "stdout",
     "output_type": "stream",
     "text": [
      "Response from FastAPI endpoint:\n",
      "{'prediction': 0, 'probability': 0.9433665721613025}\n"
     ]
    }
   ],
   "source": [
    "import requests\n",
    "import json\n",
    "import numpy as np\n",
    "\n",
    "# Create a sample payload.\n",
    "# Ensure the feature vector length matches the model's expectation (20 features).\n",
    "sample_features = np.random.randn(20).tolist()\n",
    "payload = {\"features\": sample_features}\n",
    "\n",
    "# Send a POST request to the /predict endpoint\n",
    "response = requests.post(\"http://127.0.0.1:8000/predict\", json=payload)\n",
    "\n",
    "# Print the response from the API\n",
    "print(\"Response from FastAPI endpoint:\")\n",
    "print(response.json())"
   ]
  },
  {
   "cell_type": "code",
   "execution_count": null,
   "id": "d74d094d-f38d-4b78-a286-b72937737100",
   "metadata": {},
   "outputs": [],
   "source": []
  }
 ],
 "metadata": {
  "environment": {
   "kernel": "conda-base-py",
   "name": "workbench-notebooks.m127",
   "type": "gcloud",
   "uri": "us-docker.pkg.dev/deeplearning-platform-release/gcr.io/workbench-notebooks:m127"
  },
  "kernelspec": {
   "display_name": "Python 3 (ipykernel) (Local)",
   "language": "python",
   "name": "conda-base-py"
  },
  "language_info": {
   "codemirror_mode": {
    "name": "ipython",
    "version": 3
   },
   "file_extension": ".py",
   "mimetype": "text/x-python",
   "name": "python",
   "nbconvert_exporter": "python",
   "pygments_lexer": "ipython3",
   "version": "3.10.16"
  }
 },
 "nbformat": 4,
 "nbformat_minor": 5
}
