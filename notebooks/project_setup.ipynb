{
 "cells": [
  {
   "cell_type": "code",
   "execution_count": 1,
   "id": "59f3ce2d-9d08-4edd-bf76-2fb91f34f369",
   "metadata": {
    "tags": []
   },
   "outputs": [
    {
     "name": "stdout",
     "output_type": "stream",
     "text": [
      "Requirement already satisfied: cookiecutter in /opt/conda/lib/python3.10/site-packages (2.6.0)\n",
      "Requirement already satisfied: binaryornot>=0.4.4 in /opt/conda/lib/python3.10/site-packages (from cookiecutter) (0.4.4)\n",
      "Requirement already satisfied: Jinja2<4.0.0,>=2.7 in /opt/conda/lib/python3.10/site-packages (from cookiecutter) (3.1.5)\n",
      "Requirement already satisfied: click<9.0.0,>=7.0 in /opt/conda/lib/python3.10/site-packages (from cookiecutter) (8.1.8)\n",
      "Requirement already satisfied: pyyaml>=5.3.1 in /opt/conda/lib/python3.10/site-packages (from cookiecutter) (6.0.2)\n",
      "Requirement already satisfied: python-slugify>=4.0.0 in /opt/conda/lib/python3.10/site-packages (from cookiecutter) (8.0.4)\n",
      "Requirement already satisfied: requests>=2.23.0 in /opt/conda/lib/python3.10/site-packages (from cookiecutter) (2.32.3)\n",
      "Requirement already satisfied: arrow in /opt/conda/lib/python3.10/site-packages (from cookiecutter) (1.3.0)\n",
      "Requirement already satisfied: rich in /opt/conda/lib/python3.10/site-packages (from cookiecutter) (13.9.4)\n",
      "Requirement already satisfied: chardet>=3.0.2 in /opt/conda/lib/python3.10/site-packages (from binaryornot>=0.4.4->cookiecutter) (5.2.0)\n",
      "Requirement already satisfied: MarkupSafe>=2.0 in /opt/conda/lib/python3.10/site-packages (from Jinja2<4.0.0,>=2.7->cookiecutter) (3.0.2)\n",
      "Requirement already satisfied: text-unidecode>=1.3 in /opt/conda/lib/python3.10/site-packages (from python-slugify>=4.0.0->cookiecutter) (1.3)\n",
      "Requirement already satisfied: charset_normalizer<4,>=2 in /opt/conda/lib/python3.10/site-packages (from requests>=2.23.0->cookiecutter) (3.4.0)\n",
      "Requirement already satisfied: idna<4,>=2.5 in /opt/conda/lib/python3.10/site-packages (from requests>=2.23.0->cookiecutter) (3.10)\n",
      "Requirement already satisfied: urllib3<3,>=1.21.1 in /opt/conda/lib/python3.10/site-packages (from requests>=2.23.0->cookiecutter) (1.26.20)\n",
      "Requirement already satisfied: certifi>=2017.4.17 in /opt/conda/lib/python3.10/site-packages (from requests>=2.23.0->cookiecutter) (2024.12.14)\n",
      "Requirement already satisfied: python-dateutil>=2.7.0 in /opt/conda/lib/python3.10/site-packages (from arrow->cookiecutter) (2.9.0.post0)\n",
      "Requirement already satisfied: types-python-dateutil>=2.8.10 in /opt/conda/lib/python3.10/site-packages (from arrow->cookiecutter) (2.9.0.20241206)\n",
      "Requirement already satisfied: markdown-it-py>=2.2.0 in /opt/conda/lib/python3.10/site-packages (from rich->cookiecutter) (3.0.0)\n",
      "Requirement already satisfied: pygments<3.0.0,>=2.13.0 in /opt/conda/lib/python3.10/site-packages (from rich->cookiecutter) (2.18.0)\n",
      "Requirement already satisfied: typing-extensions<5.0,>=4.0.0 in /opt/conda/lib/python3.10/site-packages (from rich->cookiecutter) (4.12.2)\n",
      "Requirement already satisfied: mdurl~=0.1 in /opt/conda/lib/python3.10/site-packages (from markdown-it-py>=2.2.0->rich->cookiecutter) (0.1.2)\n",
      "Requirement already satisfied: six>=1.5 in /opt/conda/lib/python3.10/site-packages (from python-dateutil>=2.7.0->arrow->cookiecutter) (1.17.0)\n"
     ]
    }
   ],
   "source": [
    "!pip install cookiecutter"
   ]
  },
  {
   "cell_type": "code",
   "execution_count": 2,
   "id": "c3a0046f-3f62-4f79-a6f7-5fe2bc1687bd",
   "metadata": {
    "tags": []
   },
   "outputs": [
    {
     "ename": "SyntaxError",
     "evalue": "invalid syntax (3580079992.py, line 1)",
     "output_type": "error",
     "traceback": [
      "\u001b[0;36m  Cell \u001b[0;32mIn[2], line 1\u001b[0;36m\u001b[0m\n\u001b[0;31m    cookiecutter https://github.com/drivendata/cookiecutter-data-science\u001b[0m\n\u001b[0m                 ^\u001b[0m\n\u001b[0;31mSyntaxError\u001b[0m\u001b[0;31m:\u001b[0m invalid syntax\n"
     ]
    }
   ],
   "source": [
    "cookiecutter https://github.com/drivendata/cookiecutter-data-science"
   ]
  },
  {
   "cell_type": "code",
   "execution_count": 3,
   "id": "b0deddc4-284b-4ea9-a74a-3162b169832c",
   "metadata": {
    "tags": []
   },
   "outputs": [
    {
     "name": "stdout",
     "output_type": "stream",
     "text": [
      "Collecting cookiecutter-data-science\n",
      "  Downloading cookiecutter_data_science-2.0.0-py3-none-any.whl.metadata (5.9 kB)\n",
      "Requirement already satisfied: click in /opt/conda/lib/python3.10/site-packages (from cookiecutter-data-science) (8.1.8)\n",
      "Requirement already satisfied: cookiecutter in /opt/conda/lib/python3.10/site-packages (from cookiecutter-data-science) (2.6.0)\n",
      "Requirement already satisfied: binaryornot>=0.4.4 in /opt/conda/lib/python3.10/site-packages (from cookiecutter->cookiecutter-data-science) (0.4.4)\n",
      "Requirement already satisfied: Jinja2<4.0.0,>=2.7 in /opt/conda/lib/python3.10/site-packages (from cookiecutter->cookiecutter-data-science) (3.1.5)\n",
      "Requirement already satisfied: pyyaml>=5.3.1 in /opt/conda/lib/python3.10/site-packages (from cookiecutter->cookiecutter-data-science) (6.0.2)\n",
      "Requirement already satisfied: python-slugify>=4.0.0 in /opt/conda/lib/python3.10/site-packages (from cookiecutter->cookiecutter-data-science) (8.0.4)\n",
      "Requirement already satisfied: requests>=2.23.0 in /opt/conda/lib/python3.10/site-packages (from cookiecutter->cookiecutter-data-science) (2.32.3)\n",
      "Requirement already satisfied: arrow in /opt/conda/lib/python3.10/site-packages (from cookiecutter->cookiecutter-data-science) (1.3.0)\n",
      "Requirement already satisfied: rich in /opt/conda/lib/python3.10/site-packages (from cookiecutter->cookiecutter-data-science) (13.9.4)\n",
      "Requirement already satisfied: chardet>=3.0.2 in /opt/conda/lib/python3.10/site-packages (from binaryornot>=0.4.4->cookiecutter->cookiecutter-data-science) (5.2.0)\n",
      "Requirement already satisfied: MarkupSafe>=2.0 in /opt/conda/lib/python3.10/site-packages (from Jinja2<4.0.0,>=2.7->cookiecutter->cookiecutter-data-science) (3.0.2)\n",
      "Requirement already satisfied: text-unidecode>=1.3 in /opt/conda/lib/python3.10/site-packages (from python-slugify>=4.0.0->cookiecutter->cookiecutter-data-science) (1.3)\n",
      "Requirement already satisfied: charset_normalizer<4,>=2 in /opt/conda/lib/python3.10/site-packages (from requests>=2.23.0->cookiecutter->cookiecutter-data-science) (3.4.0)\n",
      "Requirement already satisfied: idna<4,>=2.5 in /opt/conda/lib/python3.10/site-packages (from requests>=2.23.0->cookiecutter->cookiecutter-data-science) (3.10)\n",
      "Requirement already satisfied: urllib3<3,>=1.21.1 in /opt/conda/lib/python3.10/site-packages (from requests>=2.23.0->cookiecutter->cookiecutter-data-science) (1.26.20)\n",
      "Requirement already satisfied: certifi>=2017.4.17 in /opt/conda/lib/python3.10/site-packages (from requests>=2.23.0->cookiecutter->cookiecutter-data-science) (2024.12.14)\n",
      "Requirement already satisfied: python-dateutil>=2.7.0 in /opt/conda/lib/python3.10/site-packages (from arrow->cookiecutter->cookiecutter-data-science) (2.9.0.post0)\n",
      "Requirement already satisfied: types-python-dateutil>=2.8.10 in /opt/conda/lib/python3.10/site-packages (from arrow->cookiecutter->cookiecutter-data-science) (2.9.0.20241206)\n",
      "Requirement already satisfied: markdown-it-py>=2.2.0 in /opt/conda/lib/python3.10/site-packages (from rich->cookiecutter->cookiecutter-data-science) (3.0.0)\n",
      "Requirement already satisfied: pygments<3.0.0,>=2.13.0 in /opt/conda/lib/python3.10/site-packages (from rich->cookiecutter->cookiecutter-data-science) (2.18.0)\n",
      "Requirement already satisfied: typing-extensions<5.0,>=4.0.0 in /opt/conda/lib/python3.10/site-packages (from rich->cookiecutter->cookiecutter-data-science) (4.12.2)\n",
      "Requirement already satisfied: mdurl~=0.1 in /opt/conda/lib/python3.10/site-packages (from markdown-it-py>=2.2.0->rich->cookiecutter->cookiecutter-data-science) (0.1.2)\n",
      "Requirement already satisfied: six>=1.5 in /opt/conda/lib/python3.10/site-packages (from python-dateutil>=2.7.0->arrow->cookiecutter->cookiecutter-data-science) (1.17.0)\n",
      "Downloading cookiecutter_data_science-2.0.0-py3-none-any.whl (7.9 kB)\n",
      "Installing collected packages: cookiecutter-data-science\n",
      "Successfully installed cookiecutter-data-science-2.0.0\n",
      "Note: you may need to restart the kernel to use updated packages.\n"
     ]
    }
   ],
   "source": [
    "pip install cookiecutter-data-science"
   ]
  },
  {
   "cell_type": "code",
   "execution_count": 4,
   "id": "e6ce667e-20b1-462e-9f69-7e273bd3485c",
   "metadata": {
    "tags": []
   },
   "outputs": [
    {
     "ename": "NameError",
     "evalue": "name 'ccds' is not defined",
     "output_type": "error",
     "traceback": [
      "\u001b[0;31m---------------------------------------------------------------------------\u001b[0m",
      "\u001b[0;31mNameError\u001b[0m                                 Traceback (most recent call last)",
      "Cell \u001b[0;32mIn[4], line 1\u001b[0m\n\u001b[0;32m----> 1\u001b[0m \u001b[43mccds\u001b[49m\n",
      "\u001b[0;31mNameError\u001b[0m: name 'ccds' is not defined"
     ]
    }
   ],
   "source": [
    "ccds"
   ]
  },
  {
   "cell_type": "code",
   "execution_count": null,
   "id": "5024a419-1964-4b5e-a781-4e0c50e0c653",
   "metadata": {
    "tags": []
   },
   "outputs": [
    {
     "name": "stdout",
     "output_type": "stream",
     "text": [
      "project_name \u001b[1;36m(project_name)\u001b[0m: "
     ]
    }
   ],
   "source": [
    "!ccds"
   ]
  },
  {
   "cell_type": "code",
   "execution_count": null,
   "id": "79b25eec-47cf-4b86-9577-5ebbbed677d6",
   "metadata": {},
   "outputs": [],
   "source": []
  }
 ],
 "metadata": {
  "environment": {
   "kernel": "conda-base-py",
   "name": "workbench-notebooks.m127",
   "type": "gcloud",
   "uri": "us-docker.pkg.dev/deeplearning-platform-release/gcr.io/workbench-notebooks:m127"
  },
  "kernelspec": {
   "display_name": "Python 3 (ipykernel) (Local)",
   "language": "python",
   "name": "conda-base-py"
  },
  "language_info": {
   "codemirror_mode": {
    "name": "ipython",
    "version": 3
   },
   "file_extension": ".py",
   "mimetype": "text/x-python",
   "name": "python",
   "nbconvert_exporter": "python",
   "pygments_lexer": "ipython3",
   "version": "3.10.16"
  }
 },
 "nbformat": 4,
 "nbformat_minor": 5
}
